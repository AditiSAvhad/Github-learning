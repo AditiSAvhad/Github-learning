{
 "cells": [
  {
   "cell_type": "code",
   "execution_count": 1,
   "id": "43546f6a-9e26-4840-be94-cadfd4480d2e",
   "metadata": {},
   "outputs": [],
   "source": [
    "def DFS(graph, start, visited=None):\n",
    "    if visited is None:\n",
    "        visited = set()\n",
    "\n",
    "    print(\"Visiting\", start)\n",
    "    visited.add(start)\n",
    "\n",
    "    for neighbors in graph[start]:\n",
    "        if neighbors not in visited:\n",
    "            DFS(graph, neighbors, visited)"
   ]
  },
  {
   "cell_type": "code",
   "execution_count": 5,
   "id": "8c3d67e1-516b-430d-802c-c6b32fafeb59",
   "metadata": {},
   "outputs": [],
   "source": [
    "graph={\n",
    "    \"A\":[\"B\", \"C\"],\n",
    "    \"B\":[\"D\",\"E\"],\n",
    "    \"C\":[\"F\"],\n",
    "    \"D\":[],\n",
    "    \"E\":[],\n",
    "    \"F\":[]\n",
    "}"
   ]
  },
  {
   "cell_type": "code",
   "execution_count": 6,
   "id": "52e05c7b-d354-4d11-a1a3-63c59fc8d2f9",
   "metadata": {},
   "outputs": [
    {
     "name": "stdout",
     "output_type": "stream",
     "text": [
      "Visiting A\n",
      "Visiting B\n",
      "Visiting D\n",
      "Visiting E\n",
      "Visiting C\n",
      "Visiting F\n"
     ]
    }
   ],
   "source": [
    "DFS(graph, \"A\")"
   ]
  },
  {
   "cell_type": "code",
   "execution_count": null,
   "id": "b6ab7b33-714f-44ad-a021-3c0ea0964ae9",
   "metadata": {},
   "outputs": [],
   "source": []
  }
 ],
 "metadata": {
  "kernelspec": {
   "display_name": "Python 3 (ipykernel)",
   "language": "python",
   "name": "python3"
  },
  "language_info": {
   "codemirror_mode": {
    "name": "ipython",
    "version": 3
   },
   "file_extension": ".py",
   "mimetype": "text/x-python",
   "name": "python",
   "nbconvert_exporter": "python",
   "pygments_lexer": "ipython3",
   "version": "3.11.6"
  }
 },
 "nbformat": 4,
 "nbformat_minor": 5
}
