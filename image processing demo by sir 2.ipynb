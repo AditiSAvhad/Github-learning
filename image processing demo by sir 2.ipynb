{
 "cells": [
  {
   "cell_type": "code",
   "execution_count": 1,
   "id": "b7c85ca9-64ba-44c3-838a-eae38994041f",
   "metadata": {},
   "outputs": [
    {
     "ename": "error",
     "evalue": "OpenCV(4.9.0) D:\\a\\opencv-python\\opencv-python\\opencv\\modules\\imgproc\\src\\resize.cpp:4152: error: (-215:Assertion failed) !ssize.empty() in function 'cv::resize'\n",
     "output_type": "error",
     "traceback": [
      "\u001b[1;31m---------------------------------------------------------------------------\u001b[0m",
      "\u001b[1;31merror\u001b[0m                                     Traceback (most recent call last)",
      "Cell \u001b[1;32mIn[1], line 5\u001b[0m\n\u001b[0;32m      2\u001b[0m \u001b[38;5;28;01mimport\u001b[39;00m \u001b[38;5;21;01mnumpy\u001b[39;00m \u001b[38;5;28;01mas\u001b[39;00m \u001b[38;5;21;01mnp\u001b[39;00m\n\u001b[0;32m      4\u001b[0m img \u001b[38;5;241m=\u001b[39m cv\u001b[38;5;241m.\u001b[39mimread(\u001b[38;5;124m\"\u001b[39m\u001b[38;5;124manimal.jpg\u001b[39m\u001b[38;5;124m\"\u001b[39m)\n\u001b[1;32m----> 5\u001b[0m img \u001b[38;5;241m=\u001b[39m \u001b[43mcv\u001b[49m\u001b[38;5;241;43m.\u001b[39;49m\u001b[43mresize\u001b[49m\u001b[43m(\u001b[49m\u001b[43mimg\u001b[49m\u001b[43m,\u001b[49m\u001b[43m \u001b[49m\u001b[43m(\u001b[49m\u001b[38;5;241;43m400\u001b[39;49m\u001b[43m,\u001b[49m\u001b[43m \u001b[49m\u001b[38;5;241;43m400\u001b[39;49m\u001b[43m)\u001b[49m\u001b[43m)\u001b[49m\n\u001b[0;32m      7\u001b[0m \u001b[38;5;66;03m# img[:,:,0]=img[:,:,1]=0\u001b[39;00m\n\u001b[0;32m      8\u001b[0m \u001b[38;5;66;03m# cv.imshow(\"Red Image\", img)\u001b[39;00m\n\u001b[0;32m      9\u001b[0m \u001b[38;5;66;03m# print(img)\u001b[39;00m\n\u001b[1;32m   (...)\u001b[0m\n\u001b[0;32m     27\u001b[0m \u001b[38;5;66;03m# cv.circle(img, (200, 150), 50, color=(150, 14, 100), thickness=3)\u001b[39;00m\n\u001b[0;32m     28\u001b[0m \u001b[38;5;66;03m# cv.line(img,(200, 150), (340, 250), color=(10, 20, 30), thickness=3)\u001b[39;00m\n\u001b[0;32m     30\u001b[0m mask \u001b[38;5;241m=\u001b[39m np\u001b[38;5;241m.\u001b[39mzeros_like(img, dtype\u001b[38;5;241m=\u001b[39mnp\u001b[38;5;241m.\u001b[39muint8)\n",
      "\u001b[1;31merror\u001b[0m: OpenCV(4.9.0) D:\\a\\opencv-python\\opencv-python\\opencv\\modules\\imgproc\\src\\resize.cpp:4152: error: (-215:Assertion failed) !ssize.empty() in function 'cv::resize'\n"
     ]
    }
   ],
   "source": [
    "import cv2 as cv\n",
    "import numpy as np\n",
    "\n",
    "img = cv.imread(\"animal.jpg\")\n",
    "img = cv.resize(img, (400, 400))\n",
    "\n",
    "# img[:,:,0]=img[:,:,1]=0\n",
    "# cv.imshow(\"Red Image\", img)\n",
    "# print(img)\n",
    "\n",
    "# img[:,:,0]=img[:,:,2]=0\n",
    "# cv.imshow(\"Green Image\", img)\n",
    "# print(img)\n",
    "\n",
    "# img[:,:,1]=img[:,:,2]=0\n",
    "# cv.imshow(\"Blue Image\", img)\n",
    "# print(img)\n",
    "\n",
    "# hsv_img = cv.cvtColor(img, cv.COLOR_BGR2HSV)\n",
    "\n",
    "# val = 5\n",
    "# hsv_img[:,:,2] = hsv_img[:,:,2] + val\n",
    "\n",
    "# sat_img = cv.cvtColor(hsv_img, cv.COLOR_HSV2BGR)\n",
    "\n",
    "# cv.rectangle(img, (100, 50),(200, 150), color=(255, 0, 0), thickness=3)\n",
    "# cv.circle(img, (200, 150), 50, color=(150, 14, 100), thickness=3)\n",
    "# cv.line(img,(200, 150), (340, 250), color=(10, 20, 30), thickness=3)\n",
    "\n",
    "mask = np.zeros_like(img, dtype=np.uint8)\n",
    "# print(mask)\n",
    "\n",
    "height, width = mask.shape[:2]\n",
    "# center = (width//2, height//2)\n",
    "# redius = min(center)\n",
    "# cv.circle(mask, center, redius,(255,255,255), thickness=cv.FILLED)\n",
    "\n",
    "cv.rectangle(mask, (100, 100), (width-100, height-100), \n",
    "             color=(255,255,255), thickness=-1)\n",
    "\n",
    "masked_img = cv.bitwise_and(img, mask)\n",
    "cv.imshow(\"Original Image\", img)\n",
    "cv.imshow(\"Masked Image\", masked_img)\n",
    "cv.waitKey(0)"
   ]
  },
  {
   "cell_type": "code",
   "execution_count": null,
   "id": "95dd4236-2f30-4222-9433-c491f322bbf4",
   "metadata": {},
   "outputs": [],
   "source": []
  },
  {
   "cell_type": "code",
   "execution_count": null,
   "id": "af12754f-791a-4229-9ecb-bd67b5850111",
   "metadata": {},
   "outputs": [],
   "source": []
  }
 ],
 "metadata": {
  "kernelspec": {
   "display_name": "Python 3 (ipykernel)",
   "language": "python",
   "name": "python3"
  },
  "language_info": {
   "codemirror_mode": {
    "name": "ipython",
    "version": 3
   },
   "file_extension": ".py",
   "mimetype": "text/x-python",
   "name": "python",
   "nbconvert_exporter": "python",
   "pygments_lexer": "ipython3",
   "version": "3.10.9"
  }
 },
 "nbformat": 4,
 "nbformat_minor": 5
}
