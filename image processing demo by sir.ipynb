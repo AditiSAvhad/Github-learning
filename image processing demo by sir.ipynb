{
 "cells": [
  {
   "cell_type": "code",
   "execution_count": 21,
   "id": "b7c85ca9-64ba-44c3-838a-eae38994041f",
   "metadata": {},
   "outputs": [
    {
     "data": {
      "text/plain": [
       "-1"
      ]
     },
     "execution_count": 21,
     "metadata": {},
     "output_type": "execute_result"
    }
   ],
   "source": [
    "import cv2 as cv\n",
    "import numpy as np\n",
    "# img1 = cv.imread(\"daisy3.jpg\")\n",
    "# img2 = cv.imread(\"ship.png\")\n",
    "\n",
    "# print(\"Original Image\",img.shape) # (800, 1200, 3) --- Height, Width, Channel (BGR)\n",
    "\n",
    "# 1) Image Resize \n",
    "# resized_img1 = cv.resize(img1, (600,400))\n",
    "# resized_img2 = cv.resize(img2, (600,400))\n",
    "# print(\"Resized Image\",resized_img.shape)\n",
    "\n",
    "# blue, green, red = resized_img[:,:,0], resized_img[:,:,1], resized_img[:,:,2]\n",
    "# new_img = np.hstack((blue, green, red))\n",
    "\n",
    "# blurred_img = cv.GaussianBlur(resized_img, (5,5), 5)\n",
    "# gray_img = cv.cvtColor(resized_img, cv.COLOR_BGR2GRAY)\n",
    "# edge = cv.Canny(gray_img, 100, 150)\n",
    "\n",
    "# flipped_img = cv.flip(resized_img, -1)\n",
    "\n",
    "# cv.imshow(\"Flipped\", flipped_img)\n",
    "# cv.imshow(\"Original\", resized_img)\n",
    "\n",
    "# add = cv.multiply(resized_img1, resized_img2)\n",
    "cap = cv.VideoCapture(0)\n",
    "\n",
    "if not cap.isOpened():\n",
    "    print(\"Error\")\n",
    "    exit()\n",
    "\n",
    "\n",
    "ret, frame = cap.read()\n",
    "\n",
    "img = cv.imwrite(\"Captured.jpg\", frame)\n",
    "cap.release()\n",
    "\n",
    "# cv.imshow(\"Daisy\", add)\n",
    "cv.waitKey(0)"
   ]
  },
  {
   "cell_type": "code",
   "execution_count": null,
   "id": "18cb1f00-0f39-4ce9-b99b-11100f36b280",
   "metadata": {},
   "outputs": [],
   "source": []
  },
  {
   "cell_type": "code",
   "execution_count": null,
   "id": "3d8a71a9-8401-4976-b4ff-06173b209598",
   "metadata": {},
   "outputs": [],
   "source": []
  }
 ],
 "metadata": {
  "kernelspec": {
   "display_name": "Python 3 (ipykernel)",
   "language": "python",
   "name": "python3"
  },
  "language_info": {
   "codemirror_mode": {
    "name": "ipython",
    "version": 3
   },
   "file_extension": ".py",
   "mimetype": "text/x-python",
   "name": "python",
   "nbconvert_exporter": "python",
   "pygments_lexer": "ipython3",
   "version": "3.10.9"
  }
 },
 "nbformat": 4,
 "nbformat_minor": 5
}
