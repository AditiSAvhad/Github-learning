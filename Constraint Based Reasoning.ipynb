{
 "cells": [
  {
   "cell_type": "code",
   "execution_count": 1,
   "id": "38d4a7b0-9766-4372-9433-b84be57ef064",
   "metadata": {
    "scrolled": true
   },
   "outputs": [
    {
     "name": "stdout",
     "output_type": "stream",
     "text": [
      "Requirement already satisfied: python-constraint in c:\\users\\soft\\appdata\\local\\programs\\python\\python312\\lib\\site-packages (1.4.0)\n",
      "Note: you may need to restart the kernel to use updated packages.\n"
     ]
    },
    {
     "name": "stderr",
     "output_type": "stream",
     "text": [
      "\n",
      "[notice] A new release of pip is available: 23.2.1 -> 23.3.2\n",
      "[notice] To update, run: python.exe -m pip install --upgrade pip\n"
     ]
    }
   ],
   "source": [
    "pip install python-constraint"
   ]
  },
  {
   "cell_type": "code",
   "execution_count": 2,
   "id": "7720542a-f095-402b-8f77-4f38f6dfa844",
   "metadata": {},
   "outputs": [],
   "source": [
    "from constraint import Problem, AllDifferentConstraint"
   ]
  },
  {
   "cell_type": "code",
   "execution_count": 3,
   "id": "b0824ed9-58a5-4934-b555-5e33bfb1649d",
   "metadata": {},
   "outputs": [],
   "source": [
    "def color_map():\n",
    "    problem = Problem()\n",
    "\n",
    "    divisions = [\"Aurangabad\", \"Nashik\", \"Pune\", \"Konkan\", \"Nagpur\", \"Amravati\"]\n",
    "    colors = [\"Red\", \"Green\", \"Blue\"]\n",
    "\n",
    "    problem.addVariables(divisions, colors)\n",
    "\n",
    "    cnst = [(\"Aurangabad\", \"Nashik\"), (\"Aurangabad\", \"Pune\"), (\"Aurangabad\", \"Amravati\"),\n",
    "           (\"Pune\", \"Konkan\"), (\"Pune\", \"Nashik\"), (\"Nashik\", \"Amravati\"), \n",
    "           (\"Amravati\", \"Nagpur\"), (\"Nashik\", \"Konkan\")]\n",
    "\n",
    "    for div in cnst:\n",
    "        problem.addConstraint(lambda x, y : x != y, div)\n",
    "\n",
    "    solver = problem.getSolutions()\n",
    "\n",
    "    return solver"
   ]
  },
  {
   "cell_type": "code",
   "execution_count": 6,
   "id": "67fcf16b-61b4-442b-8b75-99e303950048",
   "metadata": {},
   "outputs": [],
   "source": [
    "solutions = color_map()"
   ]
  },
  {
   "cell_type": "code",
   "execution_count": 7,
   "id": "c7633450-b765-4024-81c1-c4fe713dd4bc",
   "metadata": {
    "scrolled": true
   },
   "outputs": [
    {
     "name": "stdout",
     "output_type": "stream",
     "text": [
      "Solution 1: {'Nashik': 'Blue', 'Amravati': 'Green', 'Aurangabad': 'Red', 'Pune': 'Green', 'Konkan': 'Red', 'Nagpur': 'Blue'}\n",
      "Solution 2: {'Nashik': 'Blue', 'Amravati': 'Green', 'Aurangabad': 'Red', 'Pune': 'Green', 'Konkan': 'Red', 'Nagpur': 'Red'}\n",
      "Solution 3: {'Nashik': 'Blue', 'Amravati': 'Red', 'Aurangabad': 'Green', 'Pune': 'Red', 'Konkan': 'Green', 'Nagpur': 'Green'}\n",
      "Solution 4: {'Nashik': 'Blue', 'Amravati': 'Red', 'Aurangabad': 'Green', 'Pune': 'Red', 'Konkan': 'Green', 'Nagpur': 'Blue'}\n",
      "Solution 5: {'Nashik': 'Green', 'Amravati': 'Blue', 'Aurangabad': 'Red', 'Pune': 'Blue', 'Konkan': 'Red', 'Nagpur': 'Red'}\n",
      "Solution 6: {'Nashik': 'Green', 'Amravati': 'Blue', 'Aurangabad': 'Red', 'Pune': 'Blue', 'Konkan': 'Red', 'Nagpur': 'Green'}\n",
      "Solution 7: {'Nashik': 'Green', 'Amravati': 'Red', 'Aurangabad': 'Blue', 'Pune': 'Red', 'Konkan': 'Blue', 'Nagpur': 'Blue'}\n",
      "Solution 8: {'Nashik': 'Green', 'Amravati': 'Red', 'Aurangabad': 'Blue', 'Pune': 'Red', 'Konkan': 'Blue', 'Nagpur': 'Green'}\n",
      "Solution 9: {'Nashik': 'Red', 'Amravati': 'Green', 'Aurangabad': 'Blue', 'Pune': 'Green', 'Konkan': 'Blue', 'Nagpur': 'Red'}\n",
      "Solution 10: {'Nashik': 'Red', 'Amravati': 'Green', 'Aurangabad': 'Blue', 'Pune': 'Green', 'Konkan': 'Blue', 'Nagpur': 'Blue'}\n",
      "Solution 11: {'Nashik': 'Red', 'Amravati': 'Blue', 'Aurangabad': 'Green', 'Pune': 'Blue', 'Konkan': 'Green', 'Nagpur': 'Green'}\n",
      "Solution 12: {'Nashik': 'Red', 'Amravati': 'Blue', 'Aurangabad': 'Green', 'Pune': 'Blue', 'Konkan': 'Green', 'Nagpur': 'Red'}\n"
     ]
    }
   ],
   "source": [
    "for ind, sol in enumerate(solutions, start=1):\n",
    "    print(f\"Solution {ind}: {sol}\")"
   ]
  },
  {
   "cell_type": "code",
   "execution_count": 12,
   "id": "94d3b5d0-7aa2-4a9e-9715-1f9f435e4bed",
   "metadata": {},
   "outputs": [],
   "source": [
    "def crypt_solver():\n",
    "    problem = Problem()\n",
    "\n",
    "    letters = [\"S\", \"E\", \"N\", \"D\", \"M\", \"O\", \"R\", \"Y\"]\n",
    "    domain = range(10)\n",
    "\n",
    "    problem.addVariables(letters, domain)\n",
    "\n",
    "    problem.addConstraint(AllDifferentConstraint(), letters)\n",
    "\n",
    "    problem.addConstraint(lambda S, M : S != 0 and M != 0, (\"S\", \"M\"))\n",
    "\n",
    "    problem.addConstraint(lambda S, E, N, D, M, O, R, Y : 1000*S + 100*E + 10*N + D + \n",
    "                                                          1000*M + 100*O + 10*R + E == \n",
    "                                                10000*M + 1000*O + 100*N + 10*E + Y,\n",
    "                         letters)\n",
    "\n",
    "    solver = problem.getSolutions()\n",
    "\n",
    "    return solver"
   ]
  },
  {
   "cell_type": "code",
   "execution_count": 13,
   "id": "648e2b5a-0c29-4801-84c9-5eedc3d89558",
   "metadata": {},
   "outputs": [
    {
     "data": {
      "text/plain": [
       "[{'M': 1, 'S': 9, 'D': 7, 'E': 5, 'N': 6, 'O': 0, 'R': 8, 'Y': 2}]"
      ]
     },
     "execution_count": 13,
     "metadata": {},
     "output_type": "execute_result"
    }
   ],
   "source": [
    "crypt_solver()"
   ]
  },
  {
   "cell_type": "code",
   "execution_count": null,
   "id": "0b98ba9f-fe76-473f-9fd1-963a0ec676fe",
   "metadata": {},
   "outputs": [],
   "source": [
    "B:7, A:4, S:8, E:3, L:5, G:1, M:9"
   ]
  },
  {
   "cell_type": "code",
   "execution_count": 14,
   "id": "a71d6cb7-3ce9-4b34-b3f6-868bbbd89885",
   "metadata": {},
   "outputs": [],
   "source": [
    "def crypt_solver():\n",
    "    problem = Problem()\n",
    "\n",
    "    letters = [\"B\", \"A\", \"S\", \"E\", \"L\", \"G\", \"M\"]\n",
    "    domain = range(10)\n",
    "\n",
    "    problem.addVariables(letters, domain)\n",
    "\n",
    "    problem.addConstraint(AllDifferentConstraint(), letters)\n",
    "\n",
    "    problem.addConstraint(lambda B, G : B != 0 and G != 0, (\"B\", \"G\"))\n",
    "\n",
    "    problem.addConstraint(lambda B, A, S, E, L, G, M : 1000*B + 100*A + 10*S + E + \n",
    "                                                       1000*B + 100*A + 10*L + L == \n",
    "                                             10000*G + 1000*A + 100*M + 10*E + S,\n",
    "                         letters)\n",
    "\n",
    "    solver = problem.getSolutions()\n",
    "\n",
    "    return solver"
   ]
  },
  {
   "cell_type": "code",
   "execution_count": 15,
   "id": "cf816443-03db-4317-8ffb-e975b3444416",
   "metadata": {},
   "outputs": [
    {
     "data": {
      "text/plain": [
       "[{'B': 7, 'G': 1, 'A': 4, 'E': 3, 'L': 5, 'M': 9, 'S': 8}]"
      ]
     },
     "execution_count": 15,
     "metadata": {},
     "output_type": "execute_result"
    }
   ],
   "source": [
    "crypt_solver()"
   ]
  },
  {
   "cell_type": "code",
   "execution_count": null,
   "id": "dbf84303-d96f-4ad2-9fcc-12aba87787eb",
   "metadata": {},
   "outputs": [],
   "source": [
    "POINT + ZERO = ENERGY\n",
    "P, O, I, N, T, Z, E, R, G, Y\n"
   ]
  },
  {
   "cell_type": "code",
   "execution_count": 17,
   "id": "f99a8e02-8730-4cbd-8cc4-66ba8e721f24",
   "metadata": {},
   "outputs": [],
   "source": [
    "def crypt_solver():\n",
    "    problem = Problem()\n",
    "\n",
    "    letters = [\"P\", \"O\", \"I\", \"N\", \"T\", \"Z\", \"E\", \"R\", \"G\", \"Y\"]\n",
    "    domain = range(10)\n",
    "\n",
    "    problem.addVariables(letters, domain)\n",
    "\n",
    "    problem.addConstraint(AllDifferentConstraint(), letters)\n",
    "\n",
    "    problem.addConstraint(lambda P, Z, E : P != 0 and Z != 0 and E != 0, (\"P\", \"Z\", \"E\"))\n",
    "\n",
    "    problem.addConstraint(lambda P, O, I, N, T, Z, E, R, G, Y : 10000*P + 1000*O + 100*I +\n",
    "                          10*N + T + 1000*Z + 100*E + 10*R + O == \n",
    "                          100000*E + 10000*N + 1000*E + 100*R + 10*G + Y, letters)\n",
    "\n",
    "    solver = problem.getSolutions()\n",
    "\n",
    "    return solver"
   ]
  },
  {
   "cell_type": "code",
   "execution_count": 18,
   "id": "542a1c06-439c-4be6-91c6-6fdb760a935d",
   "metadata": {},
   "outputs": [
    {
     "data": {
      "text/plain": [
       "[{'E': 1,\n",
       "  'P': 9,\n",
       "  'Z': 3,\n",
       "  'G': 7,\n",
       "  'I': 5,\n",
       "  'N': 0,\n",
       "  'O': 8,\n",
       "  'R': 6,\n",
       "  'T': 4,\n",
       "  'Y': 2}]"
      ]
     },
     "execution_count": 18,
     "metadata": {},
     "output_type": "execute_result"
    }
   ],
   "source": [
    "crypt_solver()"
   ]
  },
  {
   "cell_type": "code",
   "execution_count": null,
   "id": "fb7cba84-722b-4f3f-ac1d-56f646237271",
   "metadata": {},
   "outputs": [],
   "source": []
  }
 ],
 "metadata": {
  "kernelspec": {
   "display_name": "Python 3 (ipykernel)",
   "language": "python",
   "name": "python3"
  },
  "language_info": {
   "codemirror_mode": {
    "name": "ipython",
    "version": 3
   },
   "file_extension": ".py",
   "mimetype": "text/x-python",
   "name": "python",
   "nbconvert_exporter": "python",
   "pygments_lexer": "ipython3",
   "version": "3.12.1"
  }
 },
 "nbformat": 4,
 "nbformat_minor": 5
}
